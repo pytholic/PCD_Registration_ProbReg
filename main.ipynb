{
 "cells": [
  {
   "cell_type": "code",
   "execution_count": 1,
   "id": "e735398a",
   "metadata": {},
   "outputs": [
    {
     "name": "stdout",
     "output_type": "stream",
     "text": [
      "Jupyter environment detected. Enabling Open3D WebVisualizer.\n",
      "[Open3D INFO] WebRTC GUI backend enabled.\n",
      "[Open3D INFO] WebRTCWindowSystem: HTTP handshake server disabled.\n"
     ]
    }
   ],
   "source": [
    "import copy\n",
    "import numpy as np\n",
    "import open3d as o3\n",
    "from probreg import cpd\n",
    "from probreg import gmmtree\n",
    "from probreg import filterreg\n",
    "from timeit import default_timer as timer"
   ]
  },
  {
   "cell_type": "code",
   "execution_count": 2,
   "id": "a174deb9",
   "metadata": {},
   "outputs": [],
   "source": [
    "# # load source and target point cloud\n",
    "# source = o3.io.read_point_cloud('bunny.pcd')\n",
    "# target = copy.deepcopy(source)"
   ]
  },
  {
   "cell_type": "code",
   "execution_count": 3,
   "id": "5b591b9d",
   "metadata": {},
   "outputs": [],
   "source": [
    "# load source and target point cloud\n",
    "mesh = o3.io.read_triangle_mesh('test.obj')\n",
    "source = mesh.sample_points_uniformly(2048)\n",
    "target = copy.deepcopy(source)"
   ]
  },
  {
   "cell_type": "code",
   "execution_count": 4,
   "id": "ca3e8213",
   "metadata": {},
   "outputs": [],
   "source": [
    "# transform target point cloud\n",
    "th = np.deg2rad(30.0)\n",
    "target.transform(np.array([[np.cos(th), -np.sin(th), 0.0, 0.0],\n",
    "                           [np.sin(th), np.cos(th), 0.0, 0.0],\n",
    "                           [0.0, 0.0, 1.0, 0.0],\n",
    "                           [0.0, 0.0, 0.0, 1.0]]))\n",
    "source = source.voxel_down_sample(voxel_size=0.005)\n",
    "target = target.voxel_down_sample(voxel_size=0.005)"
   ]
  },
  {
   "cell_type": "code",
   "execution_count": 5,
   "id": "49bff567",
   "metadata": {},
   "outputs": [
    {
     "name": "stdout",
     "output_type": "stream",
     "text": [
      "Total tunning time: 0.100229\n"
     ]
    }
   ],
   "source": [
    "# compute cpd registration\n",
    "\n",
    "start = timer()\n",
    "\n",
    "#tf_param, _, _ = cpd.registration_cpd(source, target)\n",
    "#tf_param, _ = gmmtree.registration_gmmtree(source, target, maxiter=150)\n",
    "tf_param, _, _ = filterreg.registration_filterreg(source, target)\n",
    "result = copy.deepcopy(source)\n",
    "result.points = tf_param.transform(result.points)\n",
    "\n",
    "end = timer()\n",
    "\n",
    "print(\"Total tunning time: {:4f}\".format(end - start))"
   ]
  },
  {
   "cell_type": "code",
   "execution_count": 8,
   "id": "2dd4e9dd",
   "metadata": {},
   "outputs": [],
   "source": [
    "# draw result\n",
    "source.paint_uniform_color([1, 0, 0])\n",
    "target.paint_uniform_color([0, 1, 0])\n",
    "result.paint_uniform_color([0, 0, 1])\n",
    "o3.visualization.draw_geometries([source, target, result])"
   ]
  },
  {
   "cell_type": "code",
   "execution_count": null,
   "id": "044ae2b3",
   "metadata": {},
   "outputs": [],
   "source": []
  },
  {
   "cell_type": "code",
   "execution_count": null,
   "id": "a2f8d567",
   "metadata": {},
   "outputs": [],
   "source": []
  }
 ],
 "metadata": {
  "kernelspec": {
   "display_name": "Python 3 (ipykernel)",
   "language": "python",
   "name": "python3"
  },
  "language_info": {
   "codemirror_mode": {
    "name": "ipython",
    "version": 3
   },
   "file_extension": ".py",
   "mimetype": "text/x-python",
   "name": "python",
   "nbconvert_exporter": "python",
   "pygments_lexer": "ipython3",
   "version": "3.8.11"
  }
 },
 "nbformat": 4,
 "nbformat_minor": 5
}
