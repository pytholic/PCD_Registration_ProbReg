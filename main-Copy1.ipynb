{
 "cells": [
  {
   "cell_type": "code",
   "execution_count": 69,
   "id": "e735398a",
   "metadata": {},
   "outputs": [],
   "source": [
    "import copy\n",
    "import numpy as np\n",
    "import open3d as o3\n",
    "from probreg import cpd\n",
    "from probreg import gmmtree\n",
    "from probreg import filterreg\n",
    "from probreg import l2dist_regs\n",
    "from timeit import default_timer as timer"
   ]
  },
  {
   "cell_type": "code",
   "execution_count": 70,
   "id": "a174deb9",
   "metadata": {},
   "outputs": [],
   "source": [
    "# # load source and target point cloud\n",
    "# source = o3.io.read_point_cloud('bunny.pcd')\n",
    "# target = copy.deepcopy(source)"
   ]
  },
  {
   "cell_type": "code",
   "execution_count": 75,
   "id": "5b591b9d",
   "metadata": {},
   "outputs": [],
   "source": [
    "# load source and target point cloud\n",
    "mesh_source = o3.io.read_triangle_mesh('test2.obj')\n",
    "source = mesh_source.sample_points_uniformly(2048)\n",
    "\n",
    "mesh_target = o3.io.read_triangle_mesh('test.obj')\n",
    "target = mesh_target.sample_points_uniformly(2048)"
   ]
  },
  {
   "cell_type": "code",
   "execution_count": 76,
   "id": "ca3e8213",
   "metadata": {},
   "outputs": [],
   "source": [
    "# transform target point cloud\n",
    "th = np.deg2rad(30.0)\n",
    "target.transform(np.array([[np.cos(th), -np.sin(th), 0.0, 0.0],\n",
    "                           [np.sin(th), np.cos(th), 0.0, 0.0],\n",
    "                           [0.0, 0.0, 1.0, 0.0],\n",
    "                           [0.0, 0.0, 0.0, 1.0]]))\n",
    "source = source.voxel_down_sample(voxel_size=0.005)\n",
    "target = target.voxel_down_sample(voxel_size=0.005)"
   ]
  },
  {
   "cell_type": "code",
   "execution_count": 77,
   "id": "49bff567",
   "metadata": {},
   "outputs": [
    {
     "name": "stdout",
     "output_type": "stream",
     "text": [
      "Total tunning time: 6.822400\n"
     ]
    }
   ],
   "source": [
    "# compute cpd registration\n",
    "\n",
    "start = timer()\n",
    "\n",
    "tf_param, _, _ = cpd.registration_cpd(source, target)\n",
    "#tf_param, _ = gmmtree.registration_gmmtree(source, target, maxiter=150)\n",
    "#tf_param, _, _ = filterreg.registration_filterreg(source, target, maxiter=100)\n",
    "#tf_param = l2dist_regs.registration_gmmreg(source, target, tf_type_name='rigid')\n",
    "result = copy.deepcopy(source)\n",
    "result.points = tf_param.transform(result.points)\n",
    "\n",
    "end = timer()\n",
    "\n",
    "print(\"Total tunning time: {:4f}\".format(end - start))"
   ]
  },
  {
   "cell_type": "code",
   "execution_count": 78,
   "id": "2dd4e9dd",
   "metadata": {},
   "outputs": [],
   "source": [
    "# draw result\n",
    "source.paint_uniform_color([1, 0, 0])\n",
    "target.paint_uniform_color([0, 1, 0])\n",
    "result.paint_uniform_color([0, 0, 1])\n",
    "o3.visualization.draw_geometries([source, target, result])"
   ]
  },
  {
   "cell_type": "code",
   "execution_count": null,
   "id": "044ae2b3",
   "metadata": {},
   "outputs": [],
   "source": []
  },
  {
   "cell_type": "code",
   "execution_count": null,
   "id": "a2f8d567",
   "metadata": {},
   "outputs": [],
   "source": []
  }
 ],
 "metadata": {
  "kernelspec": {
   "display_name": "Python 3 (ipykernel)",
   "language": "python",
   "name": "python3"
  },
  "language_info": {
   "codemirror_mode": {
    "name": "ipython",
    "version": 3
   },
   "file_extension": ".py",
   "mimetype": "text/x-python",
   "name": "python",
   "nbconvert_exporter": "python",
   "pygments_lexer": "ipython3",
   "version": "3.8.11"
  }
 },
 "nbformat": 4,
 "nbformat_minor": 5
}
